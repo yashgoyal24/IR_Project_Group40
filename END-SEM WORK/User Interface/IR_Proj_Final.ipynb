{
  "nbformat": 4,
  "nbformat_minor": 0,
  "metadata": {
    "colab": {
      "name": "IR_Proj_Final.ipynb",
      "provenance": [],
      "collapsed_sections": []
    },
    "kernelspec": {
      "name": "python3",
      "display_name": "Python 3"
    },
    "language_info": {
      "name": "python"
    }
  },
  "cells": [
    {
      "cell_type": "code",
      "source": [
        "from google.colab import drive\n",
        "drive.mount('/content/drive')"
      ],
      "metadata": {
        "colab": {
          "base_uri": "https://localhost:8080/"
        },
        "id": "MYAspK3NBk3l",
        "outputId": "4788b0ad-5337-4359-cf91-84e66f79c2cc"
      },
      "execution_count": null,
      "outputs": [
        {
          "output_type": "stream",
          "name": "stdout",
          "text": [
            "Mounted at /content/drive\n"
          ]
        }
      ]
    },
    {
      "cell_type": "markdown",
      "source": [
        "collection records of reviews"
      ],
      "metadata": {
        "id": "MzCLSolwF12C"
      }
    },
    {
      "cell_type": "code",
      "source": [
        "records=open(\"/content/drive/My Drive/Project/ProcessedText.txt\",\"r\")\n",
        "record_list=records.readlines()"
      ],
      "metadata": {
        "id": "9OT_pjiUGUcI"
      },
      "execution_count": null,
      "outputs": []
    },
    {
      "cell_type": "code",
      "source": [
        "import json\n",
        "from collections import defaultdict\n",
        "\n",
        "rev=\"\"\n",
        "all_rev=[]\n",
        "all_rev_txt=[]\n",
        "all_rev_rating=[]\n",
        "all_rev_id=[]\n",
        "\n",
        "for r in range(len(record_list)):\n",
        "  json_data=json.loads(record_list[r])\n",
        "  rev+=json_data['text']\n",
        "  all_rev.append(json_data)\n",
        "  all_rev_txt.append(json_data['text'])\n",
        "  all_rev_rating.append(json_data['property_dict'])\n",
        "\n"
      ],
      "metadata": {
        "id": "1_nSEZJ4Iu-Y"
      },
      "execution_count": null,
      "outputs": []
    },
    {
      "cell_type": "markdown",
      "source": [
        "Pre-Processing"
      ],
      "metadata": {
        "id": "MEFYM3HyEpbZ"
      }
    },
    {
      "cell_type": "code",
      "source": [
        "import nltk\n",
        "nltk.download('punkt')\n",
        "nltk.download('stopwords')"
      ],
      "metadata": {
        "id": "cHD0HSe_R1jY",
        "colab": {
          "base_uri": "https://localhost:8080/"
        },
        "outputId": "dc0a076e-072a-41aa-e02d-d933e263b3dc"
      },
      "execution_count": null,
      "outputs": [
        {
          "output_type": "stream",
          "name": "stdout",
          "text": [
            "[nltk_data] Downloading package punkt to /root/nltk_data...\n",
            "[nltk_data]   Unzipping tokenizers/punkt.zip.\n",
            "[nltk_data] Downloading package stopwords to /root/nltk_data...\n",
            "[nltk_data]   Unzipping corpora/stopwords.zip.\n"
          ]
        },
        {
          "output_type": "execute_result",
          "data": {
            "text/plain": [
              "True"
            ]
          },
          "metadata": {},
          "execution_count": 3
        }
      ]
    },
    {
      "cell_type": "code",
      "source": [
        "from nltk import FreqDist\n",
        "from nltk.corpus import stopwords\n",
        "from nltk.tokenize import RegexpTokenizer\n",
        "from nltk.tokenize import sent_tokenize, word_tokenize\n",
        "\n",
        "sentences=[]\n",
        "review_index=[]\n",
        "\n",
        "ind=0\n",
        "for review in all_rev_txt:\n",
        "  temp1=review.split('.')\n",
        "  temp2=[]\n",
        "  #print(temp1)\n",
        "  for s in temp1:\n",
        "    sentence=s.lower()\n",
        "    words=word_tokenize(s)\n",
        "    en_stopwords = stopwords.words('english')\n",
        "    processed_words=[]\n",
        "    for token in words:\n",
        "          if token not in en_stopwords:\n",
        "              processed_words.append(token)\n",
        "\n",
        "    tokenizer= RegexpTokenizer(r\"\\w+\")\n",
        "    word_list=tokenizer.tokenize(' '.join(processed_words))\n",
        "    word_list=[w.lower() for w in word_list if len(w)!=1]\n",
        "    temp2.append(word_list)\n",
        "\n",
        "  temp3=[]\n",
        "  for s in temp2:\n",
        "    if(len(s)!=0):\n",
        "      temp3.append(' '.join(s))\n",
        "      review_index.append(ind)\n",
        "\n",
        "  sentences+=temp3\n",
        "  ind+=1\n",
        "\n"
      ],
      "metadata": {
        "id": "rPAq3o1SQ3cm"
      },
      "execution_count": null,
      "outputs": []
    },
    {
      "cell_type": "code",
      "source": [
        "from nltk import FreqDist\n",
        "from nltk.corpus import stopwords\n",
        "from nltk.tokenize import RegexpTokenizer\n",
        "from nltk.tokenize import sent_tokenize, word_tokenize\n",
        "\n",
        "#sentences=nltk.sent_tokenize(rev)\n",
        "sentence_list=[]\n",
        "for s in sentences:\n",
        "  sentence=s.lower()\n",
        "  words=word_tokenize(s)\n",
        "  en_stopwords = stopwords.words('english')\n",
        "  processed_words=[]\n",
        "  for token in words:\n",
        "        if token not in en_stopwords:\n",
        "            processed_words.append(token)\n",
        "\n",
        "  tokenizer= RegexpTokenizer(r\"\\w+\")\n",
        "  word_list=tokenizer.tokenize(' '.join(processed_words))\n",
        "  word_list=[w.lower() for w in word_list if len(w)!=1]\n",
        "  sentence_list.append(word_list)\n",
        "\n",
        "sentences=[]\n",
        "for s in sentence_list:\n",
        "  if(len(s)!=0):\n",
        "    sentences.append(' '.join(s))\n",
        "\n",
        "sentence_wordfreq=[]\n",
        "\n",
        "for i in sentence_list:\n",
        "  sentence_wordfreq.append(FreqDist(i))\n"
      ],
      "metadata": {
        "id": "jffsENB3ah0p"
      },
      "execution_count": null,
      "outputs": []
    },
    {
      "cell_type": "code",
      "source": [
        "from typing import DefaultDict\n",
        "aspect_keyword=DefaultDict()\n",
        "\n",
        "aspect_keyword[\"value\"]=[\"value\",\"price\"]\n",
        "aspect_keyword[\"room\"]=[\"room\",\"space\"]\n",
        "aspect_keyword[\"location\"]=[\"location\",\"locate\"]\n",
        "aspect_keyword[\"cleanliness\"]=[\"clean\",\"dirty\"]\n",
        "aspect_keyword[\"service\"]=[\"service\",\"manager\"]\n",
        "\n",
        "aspect_keyword"
      ],
      "metadata": {
        "id": "583Kipf8ttT9",
        "colab": {
          "base_uri": "https://localhost:8080/"
        },
        "outputId": "bbdc3969-89bd-4345-a490-12ad98512130"
      },
      "execution_count": null,
      "outputs": [
        {
          "output_type": "execute_result",
          "data": {
            "text/plain": [
              "defaultdict(None,\n",
              "            {'cleanliness': ['clean', 'dirty'],\n",
              "             'location': ['location', 'locate'],\n",
              "             'room': ['room', 'space'],\n",
              "             'service': ['service', 'manager'],\n",
              "             'value': ['value', 'price']})"
            ]
          },
          "metadata": {},
          "execution_count": 6
        }
      ]
    },
    {
      "cell_type": "markdown",
      "source": [
        "functions needed for aspectsegmentation"
      ],
      "metadata": {
        "id": "9w05ht5ltlaz"
      }
    },
    {
      "cell_type": "code",
      "source": [
        "all_words=[]\n",
        "\n",
        "for s in sentences:\n",
        "  for w in s.split():\n",
        "    if w not in all_words:\n",
        "      all_words.append(w)\n"
      ],
      "metadata": {
        "id": "Z1W8WflRsUrd"
      },
      "execution_count": null,
      "outputs": []
    },
    {
      "cell_type": "code",
      "source": [
        "from collections import defaultdict\n",
        "\n",
        "def assign_aspect(wordfreq):\n",
        "  sentence_aspect=[]\n",
        "  count=DefaultDict(int)\n",
        "  for word in wordfreq.keys():\n",
        "    for aspect, keywords in aspect_keyword.items():\n",
        "      if word in keywords:\n",
        "        count[aspect]+=1\n",
        "  if count : \n",
        "    maxi = max(count.values())\n",
        "    for aspect, cnt in count.items():\n",
        "      if cnt==maxi:\n",
        "        sentence_aspect.append(aspect)\n",
        "\n",
        "  return sentence_aspect\n"
      ],
      "metadata": {
        "id": "Tn_lNIRvshub"
      },
      "execution_count": null,
      "outputs": []
    },
    {
      "cell_type": "code",
      "source": [
        "import copy\n",
        "from collections import defaultdict\n",
        "\n",
        "sentences_dup=copy.deepcopy(sentences)"
      ],
      "metadata": {
        "id": "WWd1F7T-XlMa"
      },
      "execution_count": null,
      "outputs": []
    },
    {
      "cell_type": "markdown",
      "source": [
        "Aspect Segmentation"
      ],
      "metadata": {
        "id": "YnLLWQPRTKwN"
      }
    },
    {
      "cell_type": "code",
      "source": [
        "\n",
        "from collections import defaultdict\n",
        "import heapq\n",
        "import copy\n",
        "\n",
        "aspectWordMat = defaultdict(lambda: defaultdict(int))\n",
        "aspectCount= DefaultDict(int)\n",
        "wordCount=DefaultDict(int)\n",
        "\n",
        "i=1000\n",
        "changed=True\n",
        "while changed:\n",
        "  i-=1\n",
        "  sentence_aspect=[]\n",
        "  for word_freq in sentence_wordfreq:\n",
        "    sentence_aspect.append(assign_aspect(word_freq))\n",
        "\n",
        "  aspect_to_sentence=DefaultDict(list)\n",
        "  aspect_to_sentence.clear()\n",
        "  for i in range(len(sentences)):\n",
        "    if len(sentence_aspect[i])==1:\n",
        "      aspect_to_sentence[sentence_aspect[i][0]].append(sentences[i])\n",
        "\n",
        "  #print(aspect_to_sentence)\n",
        "\n",
        "  for aspect, sentences in aspect_to_sentence.items():\n",
        "              for i in range(len(sentences)):\n",
        "                  for word,freq in sentence_wordfreq[i].items():\n",
        "                      aspectWordMat[aspect][word]+=freq\n",
        "                      aspectCount[aspect]+=freq\n",
        "                      wordCount[word]+=freq\n",
        "                      #print(aspect,\"-\",word)\n",
        "\n",
        "\n",
        "  top_p_words = {}\n",
        "\n",
        "  for aspect in aspect_keyword.keys():\n",
        "    top_p_words[aspect] = []\n",
        "  for word in all_words:\n",
        "      maxChi = 0.0 \n",
        "      maxAspect = \"\" \n",
        "      for aspect in aspect_keyword.keys():\n",
        "        C= sum(aspectCount.values())\n",
        "        C1 = aspectWordMat[aspect][word]\n",
        "        C2 = wordCount[word]-C1\n",
        "        C3 = aspectCount[aspect]-C1 \n",
        "        C4 = C-C1 \n",
        "        deno = (C1+C3)*(C2+C4)*(C1+C2)*(C3+C4)\n",
        "        if deno!=0:\n",
        "          chisq = (C*(C1*C4 - C2*C3)*(C1*C4 - C2*C3))/deno\n",
        "        else:\n",
        "          chisq = 0.0\n",
        "\n",
        "        aspectWordMat[aspect][word] = chisq\n",
        "        if aspectWordMat[aspect][word] > maxChi:\n",
        "          maxChi = aspectWordMat[aspect][word]\n",
        "          maxAspect = aspect\n",
        "      if maxAspect!=\"\":\n",
        "        top_p_words[maxAspect].append((maxChi, word))\n",
        "\n",
        "  changed=False\n",
        "  top_p_words_copy=copy.deepcopy(top_p_words)\n",
        "  for aspect in aspect_keyword.keys():\n",
        "    max_words=[]\n",
        "    for i in range(5):\n",
        "      max_word=\"\"\n",
        "      max_val=0\n",
        "      max_tup=None\n",
        "      for tup in top_p_words_copy[aspect]:\n",
        "        if tup[0]>max_val:\n",
        "          max_val=tup[0]\n",
        "          max_word=tup[1]\n",
        "          max_tup=tup\n",
        "      max_words.append(max_word)\n",
        "      try:\n",
        "        top_p_words_copy[aspect].remove(max_tup)\n",
        "      except:\n",
        "        pass\n",
        "    \n",
        "    for word in max_words:\n",
        "      if word not in aspect_keyword[aspect]:\n",
        "        changed=True\n",
        "        aspect_keyword[aspect].append(word)\n",
        "\n",
        "\n",
        "    \n",
        "\n",
        "#aspect_keyword"
      ],
      "metadata": {
        "id": "ur7u7hLcP1kv"
      },
      "execution_count": null,
      "outputs": []
    },
    {
      "cell_type": "markdown",
      "source": [
        "ABSA"
      ],
      "metadata": {
        "id": "Fg4ULkTC_nmX"
      }
    },
    {
      "cell_type": "markdown",
      "source": [
        "preprocessing"
      ],
      "metadata": {
        "id": "mI5yiXmbsAsZ"
      }
    },
    {
      "cell_type": "code",
      "source": [
        "import pandas as pd\n",
        "\n",
        "review_sentence_df_list=[]\n",
        "for r in range(len(record_list)):\n",
        "  record=json.loads(record_list[r])\n",
        "  name=record['name']\n",
        "  loc=record['loc']\n",
        "  rating_dict=record['property_dict']\n",
        "  rating=(rating_dict['cleanliness']+rating_dict['location']+rating_dict['rooms']+rating_dict['service']+rating_dict['value'])/5\n",
        "  \n",
        "  sentences=nltk.sent_tokenize(record['text'])\n",
        "  sentence_list=[]\n",
        "  for s in sentences:\n",
        "    sentence=s.lower()\n",
        "    words=word_tokenize(s)\n",
        "    en_stopwords = stopwords.words('english')\n",
        "    processed_words=[]\n",
        "    for token in words:\n",
        "          if token not in en_stopwords:\n",
        "              processed_words.append(token)\n",
        "\n",
        "    tokenizer= RegexpTokenizer(r\"\\w+\")\n",
        "    word_list=tokenizer.tokenize(' '.join(processed_words))\n",
        "    word_list=[w.lower() for w in word_list if len(w)!=1]\n",
        "    sentence_list.append(word_list)\n",
        "\n",
        "  sentences=[]\n",
        "  for s in sentence_list:\n",
        "    if(len(s)!=0):\n",
        "      sentences.append(' '.join(s))\n",
        "\n",
        "  one_review=[]\n",
        "  for s in sentences:\n",
        "    one_review.append([name,loc,r,s,rating])\n",
        "\n",
        "  review_sentence_df_list+=(one_review)\n",
        "\n",
        "review_sentence_splited_data=pd.DataFrame(review_sentence_df_list,columns=['name','location','id','text','rating'])"
      ],
      "metadata": {
        "id": "cseeNCGywwaK"
      },
      "execution_count": null,
      "outputs": []
    },
    {
      "cell_type": "code",
      "source": [
        "review_sentence_splited_data"
      ],
      "metadata": {
        "colab": {
          "base_uri": "https://localhost:8080/",
          "height": 423
        },
        "id": "DLQti-e00ffw",
        "outputId": "82a0a518-6f3c-4518-c7c3-22175abb7f47"
      },
      "execution_count": null,
      "outputs": [
        {
          "output_type": "execute_result",
          "data": {
            "text/plain": [
              "                 name                                     location   id  \\\n",
              "0        Hotel_Baltic        Giulianova_Province_of_Teramo_Abruzzo    0   \n",
              "1        Hotel_Baltic        Giulianova_Province_of_Teramo_Abruzzo    0   \n",
              "2        Hotel_Baltic        Giulianova_Province_of_Teramo_Abruzzo    0   \n",
              "3        Hotel_Baltic        Giulianova_Province_of_Teramo_Abruzzo    1   \n",
              "4        Hotel_Baltic        Giulianova_Province_of_Teramo_Abruzzo    1   \n",
              "...               ...                                          ...  ...   \n",
              "8363  Riad_Dar_Eliane  Marrakech_Marrakech_Tensift_El_Haouz_Region  999   \n",
              "8364  Riad_Dar_Eliane  Marrakech_Marrakech_Tensift_El_Haouz_Region  999   \n",
              "8365  Riad_Dar_Eliane  Marrakech_Marrakech_Tensift_El_Haouz_Region  999   \n",
              "8366  Riad_Dar_Eliane  Marrakech_Marrakech_Tensift_El_Haouz_Region  999   \n",
              "8367  Riad_Dar_Eliane  Marrakech_Marrakech_Tensift_El_Haouz_Region  999   \n",
              "\n",
              "                                                   text  rating  \n",
              "0     decided family holiday destination saw ranking...     4.0  \n",
              "1                                          kept promise     4.0  \n",
              "2     plus staff extremely kind willing help time gr...     4.0  \n",
              "3     great customer service good restaurant service...     3.6  \n",
              "4     giulianuova pretty simple wow town clean beach...     3.6  \n",
              "...                                                 ...     ...  \n",
              "8363  really enjoyed stay riad dar eliane authentica...     5.0  \n",
              "8364  shown room described picture website perfect g...     5.0  \n",
              "8365  dined every night raid really great food endle...     5.0  \n",
              "8366  star rating think well deserved overall experi...     5.0  \n",
              "8367           excellent stay marrakech would recommend     5.0  \n",
              "\n",
              "[8368 rows x 5 columns]"
            ],
            "text/html": [
              "\n",
              "  <div id=\"df-866ca4e5-99d4-4e16-aef8-54b4cc26cf4b\">\n",
              "    <div class=\"colab-df-container\">\n",
              "      <div>\n",
              "<style scoped>\n",
              "    .dataframe tbody tr th:only-of-type {\n",
              "        vertical-align: middle;\n",
              "    }\n",
              "\n",
              "    .dataframe tbody tr th {\n",
              "        vertical-align: top;\n",
              "    }\n",
              "\n",
              "    .dataframe thead th {\n",
              "        text-align: right;\n",
              "    }\n",
              "</style>\n",
              "<table border=\"1\" class=\"dataframe\">\n",
              "  <thead>\n",
              "    <tr style=\"text-align: right;\">\n",
              "      <th></th>\n",
              "      <th>name</th>\n",
              "      <th>location</th>\n",
              "      <th>id</th>\n",
              "      <th>text</th>\n",
              "      <th>rating</th>\n",
              "    </tr>\n",
              "  </thead>\n",
              "  <tbody>\n",
              "    <tr>\n",
              "      <th>0</th>\n",
              "      <td>Hotel_Baltic</td>\n",
              "      <td>Giulianova_Province_of_Teramo_Abruzzo</td>\n",
              "      <td>0</td>\n",
              "      <td>decided family holiday destination saw ranking...</td>\n",
              "      <td>4.0</td>\n",
              "    </tr>\n",
              "    <tr>\n",
              "      <th>1</th>\n",
              "      <td>Hotel_Baltic</td>\n",
              "      <td>Giulianova_Province_of_Teramo_Abruzzo</td>\n",
              "      <td>0</td>\n",
              "      <td>kept promise</td>\n",
              "      <td>4.0</td>\n",
              "    </tr>\n",
              "    <tr>\n",
              "      <th>2</th>\n",
              "      <td>Hotel_Baltic</td>\n",
              "      <td>Giulianova_Province_of_Teramo_Abruzzo</td>\n",
              "      <td>0</td>\n",
              "      <td>plus staff extremely kind willing help time gr...</td>\n",
              "      <td>4.0</td>\n",
              "    </tr>\n",
              "    <tr>\n",
              "      <th>3</th>\n",
              "      <td>Hotel_Baltic</td>\n",
              "      <td>Giulianova_Province_of_Teramo_Abruzzo</td>\n",
              "      <td>1</td>\n",
              "      <td>great customer service good restaurant service...</td>\n",
              "      <td>3.6</td>\n",
              "    </tr>\n",
              "    <tr>\n",
              "      <th>4</th>\n",
              "      <td>Hotel_Baltic</td>\n",
              "      <td>Giulianova_Province_of_Teramo_Abruzzo</td>\n",
              "      <td>1</td>\n",
              "      <td>giulianuova pretty simple wow town clean beach...</td>\n",
              "      <td>3.6</td>\n",
              "    </tr>\n",
              "    <tr>\n",
              "      <th>...</th>\n",
              "      <td>...</td>\n",
              "      <td>...</td>\n",
              "      <td>...</td>\n",
              "      <td>...</td>\n",
              "      <td>...</td>\n",
              "    </tr>\n",
              "    <tr>\n",
              "      <th>8363</th>\n",
              "      <td>Riad_Dar_Eliane</td>\n",
              "      <td>Marrakech_Marrakech_Tensift_El_Haouz_Region</td>\n",
              "      <td>999</td>\n",
              "      <td>really enjoyed stay riad dar eliane authentica...</td>\n",
              "      <td>5.0</td>\n",
              "    </tr>\n",
              "    <tr>\n",
              "      <th>8364</th>\n",
              "      <td>Riad_Dar_Eliane</td>\n",
              "      <td>Marrakech_Marrakech_Tensift_El_Haouz_Region</td>\n",
              "      <td>999</td>\n",
              "      <td>shown room described picture website perfect g...</td>\n",
              "      <td>5.0</td>\n",
              "    </tr>\n",
              "    <tr>\n",
              "      <th>8365</th>\n",
              "      <td>Riad_Dar_Eliane</td>\n",
              "      <td>Marrakech_Marrakech_Tensift_El_Haouz_Region</td>\n",
              "      <td>999</td>\n",
              "      <td>dined every night raid really great food endle...</td>\n",
              "      <td>5.0</td>\n",
              "    </tr>\n",
              "    <tr>\n",
              "      <th>8366</th>\n",
              "      <td>Riad_Dar_Eliane</td>\n",
              "      <td>Marrakech_Marrakech_Tensift_El_Haouz_Region</td>\n",
              "      <td>999</td>\n",
              "      <td>star rating think well deserved overall experi...</td>\n",
              "      <td>5.0</td>\n",
              "    </tr>\n",
              "    <tr>\n",
              "      <th>8367</th>\n",
              "      <td>Riad_Dar_Eliane</td>\n",
              "      <td>Marrakech_Marrakech_Tensift_El_Haouz_Region</td>\n",
              "      <td>999</td>\n",
              "      <td>excellent stay marrakech would recommend</td>\n",
              "      <td>5.0</td>\n",
              "    </tr>\n",
              "  </tbody>\n",
              "</table>\n",
              "<p>8368 rows × 5 columns</p>\n",
              "</div>\n",
              "      <button class=\"colab-df-convert\" onclick=\"convertToInteractive('df-866ca4e5-99d4-4e16-aef8-54b4cc26cf4b')\"\n",
              "              title=\"Convert this dataframe to an interactive table.\"\n",
              "              style=\"display:none;\">\n",
              "        \n",
              "  <svg xmlns=\"http://www.w3.org/2000/svg\" height=\"24px\"viewBox=\"0 0 24 24\"\n",
              "       width=\"24px\">\n",
              "    <path d=\"M0 0h24v24H0V0z\" fill=\"none\"/>\n",
              "    <path d=\"M18.56 5.44l.94 2.06.94-2.06 2.06-.94-2.06-.94-.94-2.06-.94 2.06-2.06.94zm-11 1L8.5 8.5l.94-2.06 2.06-.94-2.06-.94L8.5 2.5l-.94 2.06-2.06.94zm10 10l.94 2.06.94-2.06 2.06-.94-2.06-.94-.94-2.06-.94 2.06-2.06.94z\"/><path d=\"M17.41 7.96l-1.37-1.37c-.4-.4-.92-.59-1.43-.59-.52 0-1.04.2-1.43.59L10.3 9.45l-7.72 7.72c-.78.78-.78 2.05 0 2.83L4 21.41c.39.39.9.59 1.41.59.51 0 1.02-.2 1.41-.59l7.78-7.78 2.81-2.81c.8-.78.8-2.07 0-2.86zM5.41 20L4 18.59l7.72-7.72 1.47 1.35L5.41 20z\"/>\n",
              "  </svg>\n",
              "      </button>\n",
              "      \n",
              "  <style>\n",
              "    .colab-df-container {\n",
              "      display:flex;\n",
              "      flex-wrap:wrap;\n",
              "      gap: 12px;\n",
              "    }\n",
              "\n",
              "    .colab-df-convert {\n",
              "      background-color: #E8F0FE;\n",
              "      border: none;\n",
              "      border-radius: 50%;\n",
              "      cursor: pointer;\n",
              "      display: none;\n",
              "      fill: #1967D2;\n",
              "      height: 32px;\n",
              "      padding: 0 0 0 0;\n",
              "      width: 32px;\n",
              "    }\n",
              "\n",
              "    .colab-df-convert:hover {\n",
              "      background-color: #E2EBFA;\n",
              "      box-shadow: 0px 1px 2px rgba(60, 64, 67, 0.3), 0px 1px 3px 1px rgba(60, 64, 67, 0.15);\n",
              "      fill: #174EA6;\n",
              "    }\n",
              "\n",
              "    [theme=dark] .colab-df-convert {\n",
              "      background-color: #3B4455;\n",
              "      fill: #D2E3FC;\n",
              "    }\n",
              "\n",
              "    [theme=dark] .colab-df-convert:hover {\n",
              "      background-color: #434B5C;\n",
              "      box-shadow: 0px 1px 3px 1px rgba(0, 0, 0, 0.15);\n",
              "      filter: drop-shadow(0px 1px 2px rgba(0, 0, 0, 0.3));\n",
              "      fill: #FFFFFF;\n",
              "    }\n",
              "  </style>\n",
              "\n",
              "      <script>\n",
              "        const buttonEl =\n",
              "          document.querySelector('#df-866ca4e5-99d4-4e16-aef8-54b4cc26cf4b button.colab-df-convert');\n",
              "        buttonEl.style.display =\n",
              "          google.colab.kernel.accessAllowed ? 'block' : 'none';\n",
              "\n",
              "        async function convertToInteractive(key) {\n",
              "          const element = document.querySelector('#df-866ca4e5-99d4-4e16-aef8-54b4cc26cf4b');\n",
              "          const dataTable =\n",
              "            await google.colab.kernel.invokeFunction('convertToInteractive',\n",
              "                                                     [key], {});\n",
              "          if (!dataTable) return;\n",
              "\n",
              "          const docLinkHtml = 'Like what you see? Visit the ' +\n",
              "            '<a target=\"_blank\" href=https://colab.research.google.com/notebooks/data_table.ipynb>data table notebook</a>'\n",
              "            + ' to learn more about interactive tables.';\n",
              "          element.innerHTML = '';\n",
              "          dataTable['output_type'] = 'display_data';\n",
              "          await google.colab.output.renderOutput(dataTable, element);\n",
              "          const docLink = document.createElement('div');\n",
              "          docLink.innerHTML = docLinkHtml;\n",
              "          element.appendChild(docLink);\n",
              "        }\n",
              "      </script>\n",
              "    </div>\n",
              "  </div>\n",
              "  "
            ]
          },
          "metadata": {},
          "execution_count": 12
        }
      ]
    },
    {
      "cell_type": "markdown",
      "source": [
        "Assigning Sentiment Score"
      ],
      "metadata": {
        "id": "ahQiZ_w6E2IJ"
      }
    },
    {
      "cell_type": "code",
      "source": [
        "\n",
        "from textblob import TextBlob\n",
        "\n",
        "sentences=[]\n",
        "aspects=[]\n",
        "hotel_name=[]\n",
        "hotel_loc=[]\n",
        "sentiments=[]\n",
        "\n",
        "for i in range(len(review_sentence_df_list)):\n",
        "  if len(sentence_aspect[i])!=0:\n",
        "    try:\n",
        "      sentences.append(sentences_dup[i])\n",
        "      sentiments.append(TextBlob(sentences_dup[i]).sentiment.polarity)\n",
        "      try:\n",
        "        aspects.append(sentence_aspect[i][0])    \n",
        "      except:\n",
        "        aspects.append(sentence_aspect[i][0])    \n",
        "      \n",
        "      hotel_name.append(review_sentence_df_list[i][0])\n",
        "      hotel_loc.append(review_sentence_df_list[i][1])\n",
        "    except:\n",
        "     pass\n"
      ],
      "metadata": {
        "id": "wzu_m-Lrrgfo"
      },
      "execution_count": null,
      "outputs": []
    },
    {
      "cell_type": "markdown",
      "source": [
        "Assigning Aspects with cosine similarity"
      ],
      "metadata": {
        "id": "EH4agQALXyF8"
      }
    },
    {
      "cell_type": "code",
      "source": [
        "import gensim\n",
        "from gensim.models import Word2Vec\n",
        "\n",
        "aspects_with_cosinesim=[]\n",
        "\n",
        "for s in sentences:\n",
        "  for aspect in aspect_keyword.keys():\n",
        "\n",
        "    max_sim=0\n",
        "    maxsim_aspect=\"\"\n",
        "    \n",
        "    X_set = set(aspect_keyword[aspect]) \n",
        "    Y_set = set(s.split())\n",
        "    l1 =[];\n",
        "    l2 =[]\n",
        "     \n",
        "    rvector = X_set.union(Y_set) \n",
        "    for w in rvector:\n",
        "        if w in X_set: \n",
        "          l1.append(1)\n",
        "        else:\n",
        "          l1.append(0) \n",
        "        if w in Y_set: \n",
        "          l2.append(1)\n",
        "        else:\n",
        "           l2.append(0)\n",
        "    c = 0\n",
        "      \n",
        "   \n",
        "    for i in range(len(rvector)):\n",
        "            c+= l1[i]*l2[i]\n",
        "    cosine = c / float((sum(l1)*sum(l2))**0.5)\n",
        "    \n",
        "    if(cosine>max_sim):\n",
        "      maxsim_word=aspect\n",
        "  \n",
        "  aspects_with_cosinesim.append(maxsim_word)"
      ],
      "metadata": {
        "id": "nKoMmDThVg0u"
      },
      "execution_count": null,
      "outputs": []
    },
    {
      "cell_type": "code",
      "source": [
        "import pandas as pd\n",
        "\n",
        "final_df_list_withsim=[]\n",
        "for i in range(len(sentences)):\n",
        "  temp=[hotel_name[i],hotel_loc[i],sentences[i],aspects_with_cosinesim[i],sentiments[i]]\n",
        "  final_df_list_withsim.append(temp)\n",
        "\n",
        "final_df_withsim=pd.DataFrame(final_df_list_withsim,columns=['hotel_name','hotel_loc','sentence','aspect','sentiment score'])\n",
        "final_df_withsim"
      ],
      "metadata": {
        "id": "bGToTklBeRqA",
        "colab": {
          "base_uri": "https://localhost:8080/",
          "height": 423
        },
        "outputId": "7cbab694-6467-4f76-e4a2-6b9adf73dc56"
      },
      "execution_count": null,
      "outputs": [
        {
          "output_type": "execute_result",
          "data": {
            "text/plain": [
              "           hotel_name                                    hotel_loc  \\\n",
              "0        Hotel_Baltic        Giulianova_Province_of_Teramo_Abruzzo   \n",
              "1        Hotel_Baltic        Giulianova_Province_of_Teramo_Abruzzo   \n",
              "2        Hotel_Baltic        Giulianova_Province_of_Teramo_Abruzzo   \n",
              "3        Hotel_Baltic        Giulianova_Province_of_Teramo_Abruzzo   \n",
              "4        Hotel_Baltic        Giulianova_Province_of_Teramo_Abruzzo   \n",
              "...               ...                                          ...   \n",
              "6444  Riad_Dar_Eliane  Marrakech_Marrakech_Tensift_El_Haouz_Region   \n",
              "6445  Riad_Dar_Eliane  Marrakech_Marrakech_Tensift_El_Haouz_Region   \n",
              "6446  Riad_Dar_Eliane  Marrakech_Marrakech_Tensift_El_Haouz_Region   \n",
              "6447  Riad_Dar_Eliane  Marrakech_Marrakech_Tensift_El_Haouz_Region   \n",
              "6448  Riad_Dar_Eliane  Marrakech_Marrakech_Tensift_El_Haouz_Region   \n",
              "\n",
              "                                               sentence       aspect  \\\n",
              "0     decided family holiday destination saw ranking...     location   \n",
              "1     plus staff extremely kind willing help time gr...      service   \n",
              "2     great customer service good restaurant service...      service   \n",
              "3     giulianuova pretty simple wow town clean beach...  cleanliness   \n",
              "4                         saved vacation staying baltic  cleanliness   \n",
              "...                                                 ...          ...   \n",
              "6444                             many thanks great stay     location   \n",
              "6445  arrived medina marrakech worried state buildin...        value   \n",
              "6446  however open door riad transported calm quiet ...      service   \n",
              "6447  recommend asking least one home cooked dinner ...     location   \n",
              "6448  riad exquisite room delightful whilst keeping ...     location   \n",
              "\n",
              "      sentiment score  \n",
              "0            0.000000  \n",
              "1            0.211199  \n",
              "2            0.833333  \n",
              "3            0.179167  \n",
              "4            0.000000  \n",
              "...               ...  \n",
              "6444         0.500000  \n",
              "6445        -0.200000  \n",
              "6446         0.295000  \n",
              "6447        -0.300000  \n",
              "6448         0.733333  \n",
              "\n",
              "[6449 rows x 5 columns]"
            ],
            "text/html": [
              "\n",
              "  <div id=\"df-9df69a28-c101-480f-8db5-2bfecaa55389\">\n",
              "    <div class=\"colab-df-container\">\n",
              "      <div>\n",
              "<style scoped>\n",
              "    .dataframe tbody tr th:only-of-type {\n",
              "        vertical-align: middle;\n",
              "    }\n",
              "\n",
              "    .dataframe tbody tr th {\n",
              "        vertical-align: top;\n",
              "    }\n",
              "\n",
              "    .dataframe thead th {\n",
              "        text-align: right;\n",
              "    }\n",
              "</style>\n",
              "<table border=\"1\" class=\"dataframe\">\n",
              "  <thead>\n",
              "    <tr style=\"text-align: right;\">\n",
              "      <th></th>\n",
              "      <th>hotel_name</th>\n",
              "      <th>hotel_loc</th>\n",
              "      <th>sentence</th>\n",
              "      <th>aspect</th>\n",
              "      <th>sentiment score</th>\n",
              "    </tr>\n",
              "  </thead>\n",
              "  <tbody>\n",
              "    <tr>\n",
              "      <th>0</th>\n",
              "      <td>Hotel_Baltic</td>\n",
              "      <td>Giulianova_Province_of_Teramo_Abruzzo</td>\n",
              "      <td>decided family holiday destination saw ranking...</td>\n",
              "      <td>location</td>\n",
              "      <td>0.000000</td>\n",
              "    </tr>\n",
              "    <tr>\n",
              "      <th>1</th>\n",
              "      <td>Hotel_Baltic</td>\n",
              "      <td>Giulianova_Province_of_Teramo_Abruzzo</td>\n",
              "      <td>plus staff extremely kind willing help time gr...</td>\n",
              "      <td>service</td>\n",
              "      <td>0.211199</td>\n",
              "    </tr>\n",
              "    <tr>\n",
              "      <th>2</th>\n",
              "      <td>Hotel_Baltic</td>\n",
              "      <td>Giulianova_Province_of_Teramo_Abruzzo</td>\n",
              "      <td>great customer service good restaurant service...</td>\n",
              "      <td>service</td>\n",
              "      <td>0.833333</td>\n",
              "    </tr>\n",
              "    <tr>\n",
              "      <th>3</th>\n",
              "      <td>Hotel_Baltic</td>\n",
              "      <td>Giulianova_Province_of_Teramo_Abruzzo</td>\n",
              "      <td>giulianuova pretty simple wow town clean beach...</td>\n",
              "      <td>cleanliness</td>\n",
              "      <td>0.179167</td>\n",
              "    </tr>\n",
              "    <tr>\n",
              "      <th>4</th>\n",
              "      <td>Hotel_Baltic</td>\n",
              "      <td>Giulianova_Province_of_Teramo_Abruzzo</td>\n",
              "      <td>saved vacation staying baltic</td>\n",
              "      <td>cleanliness</td>\n",
              "      <td>0.000000</td>\n",
              "    </tr>\n",
              "    <tr>\n",
              "      <th>...</th>\n",
              "      <td>...</td>\n",
              "      <td>...</td>\n",
              "      <td>...</td>\n",
              "      <td>...</td>\n",
              "      <td>...</td>\n",
              "    </tr>\n",
              "    <tr>\n",
              "      <th>6444</th>\n",
              "      <td>Riad_Dar_Eliane</td>\n",
              "      <td>Marrakech_Marrakech_Tensift_El_Haouz_Region</td>\n",
              "      <td>many thanks great stay</td>\n",
              "      <td>location</td>\n",
              "      <td>0.500000</td>\n",
              "    </tr>\n",
              "    <tr>\n",
              "      <th>6445</th>\n",
              "      <td>Riad_Dar_Eliane</td>\n",
              "      <td>Marrakech_Marrakech_Tensift_El_Haouz_Region</td>\n",
              "      <td>arrived medina marrakech worried state buildin...</td>\n",
              "      <td>value</td>\n",
              "      <td>-0.200000</td>\n",
              "    </tr>\n",
              "    <tr>\n",
              "      <th>6446</th>\n",
              "      <td>Riad_Dar_Eliane</td>\n",
              "      <td>Marrakech_Marrakech_Tensift_El_Haouz_Region</td>\n",
              "      <td>however open door riad transported calm quiet ...</td>\n",
              "      <td>service</td>\n",
              "      <td>0.295000</td>\n",
              "    </tr>\n",
              "    <tr>\n",
              "      <th>6447</th>\n",
              "      <td>Riad_Dar_Eliane</td>\n",
              "      <td>Marrakech_Marrakech_Tensift_El_Haouz_Region</td>\n",
              "      <td>recommend asking least one home cooked dinner ...</td>\n",
              "      <td>location</td>\n",
              "      <td>-0.300000</td>\n",
              "    </tr>\n",
              "    <tr>\n",
              "      <th>6448</th>\n",
              "      <td>Riad_Dar_Eliane</td>\n",
              "      <td>Marrakech_Marrakech_Tensift_El_Haouz_Region</td>\n",
              "      <td>riad exquisite room delightful whilst keeping ...</td>\n",
              "      <td>location</td>\n",
              "      <td>0.733333</td>\n",
              "    </tr>\n",
              "  </tbody>\n",
              "</table>\n",
              "<p>6449 rows × 5 columns</p>\n",
              "</div>\n",
              "      <button class=\"colab-df-convert\" onclick=\"convertToInteractive('df-9df69a28-c101-480f-8db5-2bfecaa55389')\"\n",
              "              title=\"Convert this dataframe to an interactive table.\"\n",
              "              style=\"display:none;\">\n",
              "        \n",
              "  <svg xmlns=\"http://www.w3.org/2000/svg\" height=\"24px\"viewBox=\"0 0 24 24\"\n",
              "       width=\"24px\">\n",
              "    <path d=\"M0 0h24v24H0V0z\" fill=\"none\"/>\n",
              "    <path d=\"M18.56 5.44l.94 2.06.94-2.06 2.06-.94-2.06-.94-.94-2.06-.94 2.06-2.06.94zm-11 1L8.5 8.5l.94-2.06 2.06-.94-2.06-.94L8.5 2.5l-.94 2.06-2.06.94zm10 10l.94 2.06.94-2.06 2.06-.94-2.06-.94-.94-2.06-.94 2.06-2.06.94z\"/><path d=\"M17.41 7.96l-1.37-1.37c-.4-.4-.92-.59-1.43-.59-.52 0-1.04.2-1.43.59L10.3 9.45l-7.72 7.72c-.78.78-.78 2.05 0 2.83L4 21.41c.39.39.9.59 1.41.59.51 0 1.02-.2 1.41-.59l7.78-7.78 2.81-2.81c.8-.78.8-2.07 0-2.86zM5.41 20L4 18.59l7.72-7.72 1.47 1.35L5.41 20z\"/>\n",
              "  </svg>\n",
              "      </button>\n",
              "      \n",
              "  <style>\n",
              "    .colab-df-container {\n",
              "      display:flex;\n",
              "      flex-wrap:wrap;\n",
              "      gap: 12px;\n",
              "    }\n",
              "\n",
              "    .colab-df-convert {\n",
              "      background-color: #E8F0FE;\n",
              "      border: none;\n",
              "      border-radius: 50%;\n",
              "      cursor: pointer;\n",
              "      display: none;\n",
              "      fill: #1967D2;\n",
              "      height: 32px;\n",
              "      padding: 0 0 0 0;\n",
              "      width: 32px;\n",
              "    }\n",
              "\n",
              "    .colab-df-convert:hover {\n",
              "      background-color: #E2EBFA;\n",
              "      box-shadow: 0px 1px 2px rgba(60, 64, 67, 0.3), 0px 1px 3px 1px rgba(60, 64, 67, 0.15);\n",
              "      fill: #174EA6;\n",
              "    }\n",
              "\n",
              "    [theme=dark] .colab-df-convert {\n",
              "      background-color: #3B4455;\n",
              "      fill: #D2E3FC;\n",
              "    }\n",
              "\n",
              "    [theme=dark] .colab-df-convert:hover {\n",
              "      background-color: #434B5C;\n",
              "      box-shadow: 0px 1px 3px 1px rgba(0, 0, 0, 0.15);\n",
              "      filter: drop-shadow(0px 1px 2px rgba(0, 0, 0, 0.3));\n",
              "      fill: #FFFFFF;\n",
              "    }\n",
              "  </style>\n",
              "\n",
              "      <script>\n",
              "        const buttonEl =\n",
              "          document.querySelector('#df-9df69a28-c101-480f-8db5-2bfecaa55389 button.colab-df-convert');\n",
              "        buttonEl.style.display =\n",
              "          google.colab.kernel.accessAllowed ? 'block' : 'none';\n",
              "\n",
              "        async function convertToInteractive(key) {\n",
              "          const element = document.querySelector('#df-9df69a28-c101-480f-8db5-2bfecaa55389');\n",
              "          const dataTable =\n",
              "            await google.colab.kernel.invokeFunction('convertToInteractive',\n",
              "                                                     [key], {});\n",
              "          if (!dataTable) return;\n",
              "\n",
              "          const docLinkHtml = 'Like what you see? Visit the ' +\n",
              "            '<a target=\"_blank\" href=https://colab.research.google.com/notebooks/data_table.ipynb>data table notebook</a>'\n",
              "            + ' to learn more about interactive tables.';\n",
              "          element.innerHTML = '';\n",
              "          dataTable['output_type'] = 'display_data';\n",
              "          await google.colab.output.renderOutput(dataTable, element);\n",
              "          const docLink = document.createElement('div');\n",
              "          docLink.innerHTML = docLinkHtml;\n",
              "          element.appendChild(docLink);\n",
              "        }\n",
              "      </script>\n",
              "    </div>\n",
              "  </div>\n",
              "  "
            ]
          },
          "metadata": {},
          "execution_count": 14
        }
      ]
    },
    {
      "cell_type": "code",
      "source": [
        "from sklearn.model_selection import train_test_split\n",
        "from sklearn import svm\n",
        "\n",
        "X_train, X_test, y_train, y_test = train_test_split( final_df_withsim['sentence'], final_df_withsim['aspect'], test_size=0.33, random_state=42)"
      ],
      "metadata": {
        "id": "yLXdew3BhuMS"
      },
      "execution_count": null,
      "outputs": []
    },
    {
      "cell_type": "markdown",
      "source": [
        "naive bayes (with cosine sim)"
      ],
      "metadata": {
        "id": "t0GuGzA_qjL2"
      }
    },
    {
      "cell_type": "code",
      "source": [
        "from sklearn.naive_bayes import MultinomialNB\n",
        "from sklearn.pipeline import Pipeline\n",
        "from sklearn.feature_extraction.text import TfidfTransformer\n",
        "from sklearn.feature_extraction.text import CountVectorizer, TfidfVectorizer\n",
        "from sklearn.metrics import accuracy_score, confusion_matrix\n",
        "\n",
        "nb = Pipeline([('vect', CountVectorizer()),\n",
        "               ('tfidf', TfidfTransformer()),\n",
        "               ('clf', MultinomialNB()),\n",
        "              ])\n",
        "nb.fit(X_train, y_train)\n",
        "\n",
        "\n",
        "from sklearn.metrics import classification_report\n",
        "y_pred = nb.predict(X_test)\n",
        "\n",
        "print('accuracy %s' % accuracy_score(y_pred, y_test))\n",
        "#print(classification_report(y_test, y_pred,target_names=my_tags))"
      ],
      "metadata": {
        "colab": {
          "base_uri": "https://localhost:8080/"
        },
        "id": "SuMBGMCmqoD0",
        "outputId": "f6362d90-43df-4410-9981-85e02fd9fc1c"
      },
      "execution_count": null,
      "outputs": [
        {
          "output_type": "stream",
          "name": "stdout",
          "text": [
            "accuracy 0.6848285580084547\n"
          ]
        }
      ]
    },
    {
      "cell_type": "markdown",
      "source": [
        "SVM ( with cosine sim )"
      ],
      "metadata": {
        "id": "YE4Z9H9LqfGE"
      }
    },
    {
      "cell_type": "code",
      "source": [
        "from sklearn import svm\n",
        "from sklearn.pipeline import Pipeline\n",
        "from sklearn.feature_extraction.text import TfidfTransformer\n",
        "from sklearn.feature_extraction.text import CountVectorizer, TfidfVectorizer\n",
        "from sklearn.metrics import accuracy_score, confusion_matrix\n",
        "from sklearn.metrics import precision_recall_fscore_support\n",
        "\n",
        "\n",
        "nb = Pipeline([('vect', CountVectorizer()),\n",
        "               ('tfidf', TfidfTransformer()),\n",
        "               ('clf', svm.SVC(decision_function_shape='ovo')),\n",
        "              ])\n",
        "nb.fit(X_train, y_train)\n",
        "\n",
        "\n",
        "from sklearn.metrics import classification_report\n",
        "y_pred = nb.predict(X_test)\n",
        "\n",
        "print('accuracy %s' % accuracy_score(y_pred, y_test))\n",
        "print(precision_recall_fscore_support(y_test, y_pred, average='macro'))\n",
        "#print(classification_report(y_test, y_pred,target_names=my_tags))"
      ],
      "metadata": {
        "colab": {
          "base_uri": "https://localhost:8080/"
        },
        "id": "JgM8JUe0dNuf",
        "outputId": "9bdf40fb-b915-441b-e8d7-ab1b95b9cb91"
      },
      "execution_count": null,
      "outputs": [
        {
          "output_type": "stream",
          "name": "stdout",
          "text": [
            "accuracy 0.8872710192578676\n",
            "(0.8960925662837678, 0.7772669090050931, 0.7977927582524141, None)\n"
          ]
        }
      ]
    },
    {
      "cell_type": "markdown",
      "source": [
        "DataFrame for rankng"
      ],
      "metadata": {
        "id": "QtLvY5pDG4Z9"
      }
    },
    {
      "cell_type": "code",
      "source": [
        "final_df_list_withsim[:40]"
      ],
      "metadata": {
        "id": "-LzHF-Dn8Ata"
      },
      "execution_count": null,
      "outputs": []
    },
    {
      "cell_type": "code",
      "source": [
        "import copy\n",
        "\n",
        "prevname=\"\"\n",
        "currentname=\"\"\n",
        "\n",
        "list_for_ranking=[]\n",
        "aspect_df={}\n",
        "temp=[]\n",
        "aspect_record=[]\n",
        "count=0\n",
        "\n",
        "for record in (final_df_list_withsim):\n",
        "  currentname=record[0]\n",
        "\n",
        "  if currentname==prevname:\n",
        "    if(currentname=='Agriturismi_Il_Castello_La_Grancia'):\n",
        "      count+=1\n",
        "      print(count,\" \",record[3],\" \",temp[2][record[3]],\" \",record[4])\n",
        "      print(temp)\n",
        "\n",
        "    try:\n",
        "      temp[2][record[3]]+=record[4]\n",
        "    except:\n",
        "      temp[2][record[3]]=record[4]\n",
        "\n",
        "    aspect_record.append(record[3])\n",
        "\n",
        "  else:\n",
        "    if len(temp)!=0:\n",
        "      for key in temp[2].keys():\n",
        "        try:\n",
        "          \n",
        "          #if(key=='service'):\n",
        "           # print(temp[2][key],\" \",aspect_record.count(key))\n",
        "\n",
        "          temp[2][key]=temp[2][key]/aspect_record.count(key)\n",
        "          #print(key,\" \",temp[2][key])\n",
        "        except:\n",
        "          pass\n",
        "        \n",
        "\n",
        "    aspect_record=[]\n",
        "    \n",
        "    try:\n",
        "      temp.append(sum(temp[2].values())/len(temp[2].values()))\n",
        "    except:\n",
        "      pass\n",
        "\n",
        "    if len(temp)!=0:\n",
        "      list_for_ranking.append(copy.deepcopy(temp))\n",
        "\n",
        "    \n",
        "    if(currentname=='Agriturismi_Il_Castello_La_Grancia'):\n",
        "      count+=1\n",
        "      print(count,\" \",prevname,\" \",currentname,\" \",temp)\n",
        "\n",
        "    temp.clear()\n",
        "    temp=[]\n",
        "\n",
        "    ascpect_df={}\n",
        "    aspect_df['room']=0.0\n",
        "    aspect_df['location']=0.0\n",
        "    aspect_df['service']=0.0\n",
        "    aspect_df['value']=0.0\n",
        "    aspect_df['cleanliness']=0.0\n",
        "\n",
        "    aspect_df[record[3]]=record[4]\n",
        "    aspect_record.append(record[3])\n",
        "    temp.append(record[0])\n",
        "    temp.append(record[1])\n",
        "    temp.append(aspect_df)\n",
        "\n",
        "    #if(currentname=='Agriturismi_Il_Castello_La_Grancia'):\n",
        "     # count+=1\n",
        "      #print(count,\" \",temp)\n",
        "\n",
        "  prevname=currentname\n",
        "\n",
        "#list_for_ranking"
      ],
      "metadata": {
        "id": "xjzFawE3HMJY"
      },
      "execution_count": null,
      "outputs": []
    },
    {
      "cell_type": "code",
      "source": [
        "list_for_ranking"
      ],
      "metadata": {
        "id": "se7NA0Y4A-XX"
      },
      "execution_count": null,
      "outputs": []
    },
    {
      "cell_type": "code",
      "source": [
        "import joblib\n",
        "\n",
        "joblib.dump(list_for_ranking,'/content/drive/My Drive/list_for_ranking')\n",
        "joblib.dump(nb,'/content/drive/My Drive/nb')"
      ],
      "metadata": {
        "id": "IjBOq9b6BJmH"
      },
      "execution_count": null,
      "outputs": []
    },
    {
      "cell_type": "markdown",
      "source": [
        "Function of handling query give ranked list of hotels"
      ],
      "metadata": {
        "id": "rE8bNsDvFmdt"
      }
    },
    {
      "cell_type": "code",
      "source": [
        "def query_handling_and_ranking(query):\n",
        "  import re\n",
        "  from textblob import TextBlob\n",
        "  import joblib\n",
        "\n",
        "  list_for_ranking=joblib.load('/content/drive/My Drive/list_for_ranking')\n",
        "  nb=joblib.load('/content/drive/My Drive/nb')\n",
        "\n",
        "  #nb=joblib.load('/content/Drive/My Drive/svm_sim250k.sav')\n",
        "\n",
        "  sentences_dup=re.split('; |, |and |but |with |in |\\*|\\n', query)\n",
        "  sentences=[]\n",
        "  for s in sentences_dup:\n",
        "    sentences+=s.split('.')\n",
        "\n",
        "  try:\n",
        "    sentences.remove('')\n",
        "  except:\n",
        "    pass\n",
        "\n",
        "  sentence_list=[]\n",
        "  for s in sentences:\n",
        "    sentence=s.lower()\n",
        "    words=word_tokenize(s)\n",
        "    en_stopwords = stopwords.words('english')\n",
        "    processed_words=[]\n",
        "    for token in words:\n",
        "          if token not in en_stopwords:\n",
        "              processed_words.append(token)\n",
        "\n",
        "    tokenizer= RegexpTokenizer(r\"\\w+\")\n",
        "    word_list=tokenizer.tokenize(' '.join(processed_words))\n",
        "    word_list=[w.lower() for w in word_list if len(w)!=1]\n",
        "    sentence_list.append(word_list)\n",
        "\n",
        "  sentences=[]\n",
        "  for s in sentence_list:\n",
        "    if(len(s)!=0):\n",
        "      sentences.append(' '.join(s))\n",
        "\n",
        "  query_sentences=[]\n",
        "  aspects=[]\n",
        "  sentiments=[]\n",
        "\n",
        "  for i in range(len(sentences)):\n",
        "      try:\n",
        "        aspects.append(nb.predict(pd.DataFrame([sentences[i]])[0])[0])\n",
        "        query_sentences.append(sentences[i])\n",
        "        sentiments.append(TextBlob(sentences[i]).sentiment.polarity)\n",
        "      except:\n",
        "        pass\n",
        "\n",
        "  query_df={}\n",
        "\n",
        "  for i in range(len(aspects)):\n",
        "    query_df[aspects[i]] = 0.0\n",
        "\n",
        "  for i in range(len(aspects)):\n",
        "    query_df[aspects[i]] += sentiments[i]\n",
        "\n",
        "  for i in range(len(aspects)):\n",
        "    query_df[aspects[i]] = query_df[aspects[i]]/aspects.count(aspects[i])\n",
        "\n",
        "\n",
        "  aspects=['cleanliness','location','service','room','value']\n",
        "\n",
        "  for key in aspects:\n",
        "    if key not in query_df.keys():\n",
        "      query_df[key] = 0.0\n",
        "\n",
        "  final_list_for_ranking=[]\n",
        "  for rev in list_for_ranking:\n",
        "    flag=True\n",
        "    for key in rev[2].keys():\n",
        "      if rev[2][key] < query_df[key]:\n",
        "        flag=False\n",
        "\n",
        "    if flag==True:\n",
        "      final_list_for_ranking.append(rev)\n",
        "\n",
        "  \n",
        "  final_list_for_ranking=(sorted(final_list_for_ranking,key=lambda l:l[-1],reverse=True))\n",
        "\n",
        "  return final_list_for_ranking\n",
        "  \n"
      ],
      "metadata": {
        "id": "dGrYKXq5agaf"
      },
      "execution_count": null,
      "outputs": []
    },
    {
      "cell_type": "markdown",
      "source": [
        "taking query"
      ],
      "metadata": {
        "id": "3aM6lKVmZ8rm"
      }
    },
    {
      "cell_type": "code",
      "source": [
        "query=input()\n",
        "output=query_handling_and_ranking(query)"
      ],
      "metadata": {
        "id": "vX1PhwwScAQS",
        "colab": {
          "base_uri": "https://localhost:8080/"
        },
        "outputId": "d2471422-5947-49a0-c65e-93fc02c25666"
      },
      "execution_count": null,
      "outputs": [
        {
          "name": "stdout",
          "output_type": "stream",
          "text": [
            "want clean room\n"
          ]
        }
      ]
    },
    {
      "cell_type": "code",
      "source": [
        "output"
      ],
      "metadata": {
        "id": "7GZfg4YafOtL"
      },
      "execution_count": null,
      "outputs": []
    }
  ]
}